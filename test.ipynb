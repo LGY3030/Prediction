{
 "cells": [
  {
   "cell_type": "code",
   "execution_count": 14,
   "metadata": {},
   "outputs": [
    {
     "name": "stdout",
     "output_type": "stream",
     "text": [
      "(60000, 28, 28)\n",
      "(60000,)\n",
      "(60000, 784)\n",
      "(60000, 10)\n"
     ]
    }
   ],
   "source": [
    "from keras.datasets import mnist\n",
    "import numpy as np\n",
    "np.random.seed(1337)  # for reproducibility\n",
    "from keras.datasets import mnist\n",
    "from keras.utils import np_utils\n",
    "from keras.models import Sequential\n",
    "from keras.layers import Dense, Activation\n",
    "from keras.optimizers import RMSprop\n",
    "# download the mnist to the path '~/.keras/datasets/' if it is the first time to be called\n",
    "# X shape (60,000 28x28), y shape (10,000, )\n",
    "(X_train, y_train), (X_test, y_test) = mnist.load_data()\n",
    "print(X_train.shape)\n",
    "print(y_train.shape)\n",
    "# data pre-processing\n",
    "X_train = X_train.reshape(X_train.shape[0], -1) / 255.   # normalize\n",
    "X_test = X_test.reshape(X_test.shape[0], -1) / 255.      # normalize\n",
    "y_train = np_utils.to_categorical(y_train, num_classes=10)\n",
    "y_test = np_utils.to_categorical(y_test, num_classes=10)\n",
    "print(X_train.shape)\n",
    "print(y_train.shape)"
   ]
  },
  {
   "cell_type": "code",
   "execution_count": 15,
   "metadata": {},
   "outputs": [
    {
     "name": "stdout",
     "output_type": "stream",
     "text": [
      "_________________________________________________________________\n",
      "Layer (type)                 Output Shape              Param #   \n",
      "=================================================================\n",
      "dense_3 (Dense)              (None, 32)                25120     \n",
      "_________________________________________________________________\n",
      "activation_3 (Activation)    (None, 32)                0         \n",
      "_________________________________________________________________\n",
      "dense_4 (Dense)              (None, 10)                330       \n",
      "_________________________________________________________________\n",
      "activation_4 (Activation)    (None, 10)                0         \n",
      "=================================================================\n",
      "Total params: 25,450\n",
      "Trainable params: 25,450\n",
      "Non-trainable params: 0\n",
      "_________________________________________________________________\n"
     ]
    }
   ],
   "source": [
    "model = Sequential([\n",
    "    Dense(32, input_dim=784),\n",
    "    Activation('relu'),\n",
    "    Dense(10),\n",
    "    Activation('softmax'),\n",
    "])\n",
    "model.summary()"
   ]
  },
  {
   "cell_type": "code",
   "execution_count": 4,
   "metadata": {},
   "outputs": [],
   "source": [
    "rmsprop = RMSprop(lr=0.001, rho=0.9, epsilon=1e-08, decay=0.0)"
   ]
  },
  {
   "cell_type": "code",
   "execution_count": 5,
   "metadata": {},
   "outputs": [],
   "source": [
    "model.compile(optimizer=rmsprop,\n",
    "              loss='categorical_crossentropy',\n",
    "              metrics=['accuracy'])"
   ]
  },
  {
   "cell_type": "code",
   "execution_count": 8,
   "metadata": {},
   "outputs": [
    {
     "name": "stdout",
     "output_type": "stream",
     "text": [
      "Epoch 1/20\n",
      "60000/60000 [==============================] - 2s 35us/step - loss: 0.3434 - acc: 0.9045\n",
      "Epoch 2/20\n",
      "60000/60000 [==============================] - 2s 33us/step - loss: 0.1947 - acc: 0.9438\n",
      "Epoch 3/20\n",
      "60000/60000 [==============================] - 2s 33us/step - loss: 0.1587 - acc: 0.9536\n",
      "Epoch 4/20\n",
      "60000/60000 [==============================] - 2s 33us/step - loss: 0.1394 - acc: 0.9602\n",
      "Epoch 5/20\n",
      "60000/60000 [==============================] - 2s 33us/step - loss: 0.1261 - acc: 0.9640\n",
      "Epoch 6/20\n",
      "60000/60000 [==============================] - 2s 32us/step - loss: 0.1175 - acc: 0.9672\n",
      "Epoch 7/20\n",
      "60000/60000 [==============================] - 2s 33us/step - loss: 0.1104 - acc: 0.9690\n",
      "Epoch 8/20\n",
      "60000/60000 [==============================] - 2s 33us/step - loss: 0.1035 - acc: 0.9710\n",
      "Epoch 9/20\n",
      "60000/60000 [==============================] - 2s 32us/step - loss: 0.0986 - acc: 0.9728\n",
      "Epoch 10/20\n",
      "60000/60000 [==============================] - 2s 33us/step - loss: 0.0934 - acc: 0.9747\n",
      "Epoch 11/20\n",
      "60000/60000 [==============================] - 2s 33us/step - loss: 0.0916 - acc: 0.9753\n",
      "Epoch 12/20\n",
      "60000/60000 [==============================] - 2s 34us/step - loss: 0.0872 - acc: 0.9762\n",
      "Epoch 13/20\n",
      "60000/60000 [==============================] - 2s 33us/step - loss: 0.0845 - acc: 0.9768\n",
      "Epoch 14/20\n",
      "60000/60000 [==============================] - 2s 33us/step - loss: 0.0827 - acc: 0.9773\n",
      "Epoch 15/20\n",
      "60000/60000 [==============================] - 2s 34us/step - loss: 0.0804 - acc: 0.9787\n",
      "Epoch 16/20\n",
      "60000/60000 [==============================] - 2s 34us/step - loss: 0.0770 - acc: 0.9791\n",
      "Epoch 17/20\n",
      "60000/60000 [==============================] - 2s 34us/step - loss: 0.0753 - acc: 0.9798\n",
      "Epoch 18/20\n",
      "60000/60000 [==============================] - 2s 33us/step - loss: 0.0738 - acc: 0.9810\n",
      "Epoch 19/20\n",
      "60000/60000 [==============================] - 2s 34us/step - loss: 0.0721 - acc: 0.9810\n",
      "Epoch 20/20\n",
      "60000/60000 [==============================] - 2s 34us/step - loss: 0.0708 - acc: 0.9816\n"
     ]
    },
    {
     "data": {
      "text/plain": [
       "<keras.callbacks.History at 0x228139beb8>"
      ]
     },
     "execution_count": 8,
     "metadata": {},
     "output_type": "execute_result"
    }
   ],
   "source": [
    "model.fit(X_train, y_train, epochs=20, batch_size=32)"
   ]
  },
  {
   "cell_type": "code",
   "execution_count": 9,
   "metadata": {},
   "outputs": [
    {
     "name": "stdout",
     "output_type": "stream",
     "text": [
      "10000/10000 [==============================] - 0s 15us/step\n",
      "test loss:  0.14802814190845237\n",
      "test accuracy:  0.9665\n"
     ]
    }
   ],
   "source": [
    "loss, accuracy = model.evaluate(X_test, y_test)\n",
    "\n",
    "print('test loss: ', loss)\n",
    "print('test accuracy: ', accuracy)"
   ]
  },
  {
   "cell_type": "code",
   "execution_count": null,
   "metadata": {},
   "outputs": [],
   "source": []
  }
 ],
 "metadata": {
  "kernelspec": {
   "display_name": "Python 3",
   "language": "python",
   "name": "python3"
  },
  "language_info": {
   "codemirror_mode": {
    "name": "ipython",
    "version": 3
   },
   "file_extension": ".py",
   "mimetype": "text/x-python",
   "name": "python",
   "nbconvert_exporter": "python",
   "pygments_lexer": "ipython3",
   "version": "3.5.5"
  }
 },
 "nbformat": 4,
 "nbformat_minor": 2
}
