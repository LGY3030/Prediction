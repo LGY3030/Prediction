{
 "cells": [
  {
   "cell_type": "code",
   "execution_count": 1,
   "metadata": {},
   "outputs": [],
   "source": [
    "# RNN(Long Short-Term Memory, LSTM)"
   ]
  },
  {
   "cell_type": "code",
   "execution_count": 1,
   "metadata": {},
   "outputs": [
    {
     "name": "stderr",
     "output_type": "stream",
     "text": [
      "C:\\Users\\admin\\Anaconda3\\envs\\tensorflow\\lib\\site-packages\\h5py\\__init__.py:36: FutureWarning: Conversion of the second argument of issubdtype from `float` to `np.floating` is deprecated. In future, it will be treated as `np.float64 == np.dtype(float).type`.\n",
      "  from ._conv import register_converters as _register_converters\n",
      "Using TensorFlow backend.\n"
     ]
    }
   ],
   "source": [
    "import pandas as pd\n",
    "import numpy as np\n",
    "from keras.models import Sequential\n",
    "from keras.layers import Dense, Dropout, Activation, Flatten, LSTM, TimeDistributed, RepeatVector\n",
    "from keras.layers.normalization import BatchNormalization\n",
    "from keras.optimizers import Adam\n",
    "from keras.callbacks import EarlyStopping, ModelCheckpoint\n",
    "from keras.utils import np_utils\n",
    "import matplotlib.pyplot as plt\n",
    "import os\n",
    "%matplotlib inline"
   ]
  },
  {
   "cell_type": "code",
   "execution_count": 2,
   "metadata": {},
   "outputs": [],
   "source": [
    "def mergeData():\n",
    "    SaveFile_Name = 'data.csv'\n",
    "    file_list = os.listdir('data')\n",
    "    df = pd.read_csv('data'+'\\\\'+file_list[0])\n",
    "    df.to_csv(SaveFile_Name,encoding=\"utf_8_sig\",index=False)\n",
    "    for i in range(1,len(file_list)):\n",
    "        df = pd.read_csv('data'+'\\\\'+file_list[i])\n",
    "        df.to_csv(SaveFile_Name,encoding=\"utf_8_sig\",index=False, header=False, mode='a+')"
   ]
  },
  {
   "cell_type": "code",
   "execution_count": 3,
   "metadata": {},
   "outputs": [],
   "source": [
    "def readData():\n",
    "    train = pd.read_csv(\"data.csv\")\n",
    "    return train"
   ]
  },
  {
   "cell_type": "code",
   "execution_count": 4,
   "metadata": {},
   "outputs": [],
   "source": [
    "def changeYear(data):\n",
    "    for i in range(0,data.shape[0]):\n",
    "        Date=data[\"日期\"][i].split('/')\n",
    "        year,month,date=Date[0],Date[1],Date[2]\n",
    "        year=str(int(year)+1911)\n",
    "        data.loc[i,\"日期\"]=year+'/'+month+'/'+date\n",
    "    return data"
   ]
  },
  {
   "cell_type": "code",
   "execution_count": 5,
   "metadata": {},
   "outputs": [],
   "source": [
    "# Augment Features\n",
    "def augFeatures(data):\n",
    "  data[\"日期\"] = pd.to_datetime(data[\"日期\"])\n",
    "  data[\"年\"] = data[\"日期\"].dt.year\n",
    "  data[\"月\"] = data[\"日期\"].dt.month\n",
    "  data[\"日\"] = data[\"日期\"].dt.day\n",
    "  data[\"第幾日\"] = data[\"日期\"].dt.dayofweek\n",
    "  return data"
   ]
  },
  {
   "cell_type": "code",
   "execution_count": 6,
   "metadata": {},
   "outputs": [],
   "source": [
    "def manage(data):\n",
    "    for i in range(0,data.shape[0]):\n",
    "        if data[\"漲跌價差\"][i]=='X0.00':\n",
    "            data.loc[i,\"漲跌價差\"]=str(int(data[\"收盤價\"][i])-int(data[\"收盤價\"][i-1]))\n",
    "    data=data.drop([\"日期\"], axis=1)\n",
    "    data=data.drop([\"成交股數\"], axis=1)\n",
    "    data=data.drop([\"成交金額\"], axis=1)\n",
    "    data=data.drop([\"漲跌價差\"], axis=1)\n",
    "    data=data.drop([\"成交筆數\"], axis=1)\n",
    "    data=data.convert_objects(convert_numeric=True)\n",
    "    return data"
   ]
  },
  {
   "cell_type": "code",
   "execution_count": 7,
   "metadata": {},
   "outputs": [],
   "source": [
    "from sklearn import preprocessing\n",
    "def normalize(data):\n",
    "    minmax_scale=preprocessing.MinMaxScaler(feature_range=(0,1))\n",
    "    datanormalize=minmax_scale.fit_transform(data)\n",
    "    return datanormalize"
   ]
  },
  {
   "cell_type": "code",
   "execution_count": 8,
   "metadata": {},
   "outputs": [],
   "source": [
    "def buildTrain(train, pastDay=30, futureDay=1):\n",
    "    X_train, Y_train, Z_train= [], [], []\n",
    "    X,Y,Z=[],[],[]\n",
    "    for i in range(train.shape[0]-futureDay-pastDay):\n",
    "        X_train.append(np.array(train.iloc[i:i+pastDay]))\n",
    "        Y_train.append(np.array(train.iloc[i+pastDay:i+pastDay+futureDay][\"開盤價\"]))\n",
    "        Z_train.append(np.array(train.iloc[i+pastDay-1:i+pastDay][\"開盤價\"]))\n",
    "    X=np.array(X_train)\n",
    "    Y=np.array(Y_train)\n",
    "    Z=np.array(Z_train)\n",
    "    Y=(Y-Z)/2\n",
    "    Y_train=[]\n",
    "    for i in range(len(Y)):\n",
    "        if Y[i]<-5:\n",
    "            Y_train.append(np.array([0]))\n",
    "        elif -5<=Y[i]<-4:\n",
    "            Y_train.append(np.array([1]))\n",
    "        elif -4<=Y[i]<-3:\n",
    "            Y_train.append(np.array([2]))\n",
    "        elif -3<=Y[i]<-2:\n",
    "            Y_train.append(np.array([3]))\n",
    "        elif -2<=Y[i]<-1:\n",
    "            Y_train.append(np.array([4]))\n",
    "        elif -1<=Y[i]<0:\n",
    "            Y_train.append(np.array([5]))\n",
    "        elif 0<=Y[i]<1:\n",
    "            Y_train.append(np.array([6]))\n",
    "        elif 1<=Y[i]<2:\n",
    "            Y_train.append(np.array([7]))\n",
    "        elif 2<=Y[i]<3:\n",
    "            Y_train.append(np.array([8]))\n",
    "        elif 3<=Y[i]<4:\n",
    "            Y_train.append(np.array([9]))\n",
    "        elif 4<=Y[i]<5:\n",
    "            Y_train.append(np.array([10]))\n",
    "        elif 5<=Y[i]:\n",
    "            Y_train.append(np.array([11]))\n",
    "    Y=np.array(Y_train)\n",
    "    return X, Y"
   ]
  },
  {
   "cell_type": "code",
   "execution_count": 9,
   "metadata": {},
   "outputs": [],
   "source": [
    "def shuffle1(X,Y):\n",
    "  np.random.seed()\n",
    "  randomList = np.arange(X.shape[0])\n",
    "  np.random.shuffle(randomList)\n",
    "  return X[randomList], Y[randomList]"
   ]
  },
  {
   "cell_type": "code",
   "execution_count": 10,
   "metadata": {},
   "outputs": [],
   "source": [
    "# 將Training Data取一部份當作Validation Data\n",
    "def splitData(X,Y,rate):\n",
    "    X_train = X[:-int(X.shape[0]*rate)]\n",
    "\n",
    "    Y_train = Y[:-int(Y.shape[0]*rate)]\n",
    "    \n",
    "    X_val = X[-int(X.shape[0]*rate):]\n",
    "\n",
    "    Y_val = Y[-int(Y.shape[0]*rate):]\n",
    "    return X_train, Y_train, X_val, Y_val"
   ]
  },
  {
   "cell_type": "code",
   "execution_count": 11,
   "metadata": {},
   "outputs": [],
   "source": [
    "def buildModel(shape):\n",
    "    model = Sequential()\n",
    "    model.add(LSTM(16,input_length=shape[1], input_dim=shape[2],return_sequences=True))\n",
    "    model.add(Dropout(0.2))\n",
    "    model.add(LSTM(16))\n",
    "    model.add(Dropout(0.2))\n",
    "    model.add(Dense(12,activation='softmax'))\n",
    "    model.compile(loss=\"categorical_crossentropy\", optimizer=\"adam\",metrics=['accuracy'])\n",
    "    model.summary()\n",
    "    return model"
   ]
  },
  {
   "cell_type": "code",
   "execution_count": 14,
   "metadata": {},
   "outputs": [
    {
     "name": "stderr",
     "output_type": "stream",
     "text": [
      "C:\\Users\\admin\\Anaconda3\\envs\\tensorflow\\lib\\site-packages\\ipykernel_launcher.py:10: FutureWarning: convert_objects is deprecated.  To re-infer data dtypes for object columns, use DataFrame.infer_objects()\n",
      "For all other conversions use the data-type specific converters pd.to_datetime, pd.to_timedelta and pd.to_numeric.\n",
      "  # Remove the CWD from sys.path while we load stuff.\n",
      "C:\\Users\\admin\\Anaconda3\\envs\\tensorflow\\lib\\site-packages\\ipykernel_launcher.py:3: UserWarning: The `input_dim` and `input_length` arguments in recurrent layers are deprecated. Use `input_shape` instead.\n",
      "  This is separate from the ipykernel package so we can avoid doing imports until\n",
      "C:\\Users\\admin\\Anaconda3\\envs\\tensorflow\\lib\\site-packages\\ipykernel_launcher.py:3: UserWarning: Update your `LSTM` call to the Keras 2 API: `LSTM(16, input_shape=(30, 8), return_sequences=True)`\n",
      "  This is separate from the ipykernel package so we can avoid doing imports until\n"
     ]
    },
    {
     "name": "stdout",
     "output_type": "stream",
     "text": [
      "_________________________________________________________________\n",
      "Layer (type)                 Output Shape              Param #   \n",
      "=================================================================\n",
      "lstm_3 (LSTM)                (None, 30, 16)            1600      \n",
      "_________________________________________________________________\n",
      "dropout_3 (Dropout)          (None, 30, 16)            0         \n",
      "_________________________________________________________________\n",
      "lstm_4 (LSTM)                (None, 16)                2112      \n",
      "_________________________________________________________________\n",
      "dropout_4 (Dropout)          (None, 16)                0         \n",
      "_________________________________________________________________\n",
      "dense_2 (Dense)              (None, 12)                204       \n",
      "=================================================================\n",
      "Total params: 3,916\n",
      "Trainable params: 3,916\n",
      "Non-trainable params: 0\n",
      "_________________________________________________________________\n",
      "Train on 4989 samples, validate on 555 samples\n",
      "Epoch 1/20\n",
      " - 4s - loss: 2.1328 - acc: 0.3410 - val_loss: 1.6561 - val_acc: 0.4613\n",
      "Epoch 2/20\n",
      " - 2s - loss: 1.6414 - acc: 0.3989 - val_loss: 1.4445 - val_acc: 0.4613\n",
      "Epoch 3/20\n",
      " - 2s - loss: 1.5172 - acc: 0.3893 - val_loss: 1.3969 - val_acc: 0.4577\n",
      "Epoch 4/20\n",
      " - 1s - loss: 1.4857 - acc: 0.3858 - val_loss: 1.3917 - val_acc: 0.4595\n",
      "Epoch 5/20\n",
      " - 1s - loss: 1.4688 - acc: 0.3911 - val_loss: 1.3770 - val_acc: 0.4252\n",
      "Epoch 6/20\n",
      " - 1s - loss: 1.4636 - acc: 0.3937 - val_loss: 1.3607 - val_acc: 0.4577\n",
      "Epoch 7/20\n",
      " - 1s - loss: 1.4584 - acc: 0.3820 - val_loss: 1.3689 - val_acc: 0.4559\n",
      "Epoch 8/20\n",
      " - 1s - loss: 1.4545 - acc: 0.4063 - val_loss: 1.3731 - val_acc: 0.4595\n",
      "Epoch 9/20\n",
      " - 1s - loss: 1.4481 - acc: 0.4001 - val_loss: 1.3554 - val_acc: 0.4613\n",
      "Epoch 10/20\n",
      " - 1s - loss: 1.4457 - acc: 0.4043 - val_loss: 1.3505 - val_acc: 0.4613\n",
      "Epoch 11/20\n",
      " - 1s - loss: 1.4423 - acc: 0.3973 - val_loss: 1.3637 - val_acc: 0.4613\n",
      "Epoch 12/20\n",
      " - 1s - loss: 1.4373 - acc: 0.3997 - val_loss: 1.3623 - val_acc: 0.4613\n",
      "Epoch 13/20\n",
      " - 1s - loss: 1.4391 - acc: 0.4001 - val_loss: 1.3537 - val_acc: 0.4613\n",
      "Epoch 14/20\n",
      " - 1s - loss: 1.4316 - acc: 0.4025 - val_loss: 1.3620 - val_acc: 0.4595\n",
      "Epoch 15/20\n",
      " - 1s - loss: 1.4377 - acc: 0.3999 - val_loss: 1.3507 - val_acc: 0.4631\n",
      "Epoch 16/20\n",
      " - 1s - loss: 1.4349 - acc: 0.4037 - val_loss: 1.3534 - val_acc: 0.4595\n",
      "Epoch 17/20\n",
      " - 2s - loss: 1.4287 - acc: 0.4051 - val_loss: 1.3594 - val_acc: 0.4595\n",
      "Epoch 18/20\n",
      " - 2s - loss: 1.4229 - acc: 0.4089 - val_loss: 1.3491 - val_acc: 0.4631\n",
      "Epoch 19/20\n",
      " - 1s - loss: 1.4242 - acc: 0.4055 - val_loss: 1.3576 - val_acc: 0.4541\n",
      "Epoch 20/20\n",
      " - 1s - loss: 1.4262 - acc: 0.4067 - val_loss: 1.3495 - val_acc: 0.4595\n"
     ]
    },
    {
     "data": {
      "image/png": "[encoded data removed]",
      "text/plain": [
       "<Figure size 432x288 with 1 Axes>"
      ]
     },
     "metadata": {},
     "output_type": "display_data"
    }
   ],
   "source": [
    "from sklearn.utils import shuffle\n",
    "\n",
    "mergeData()\n",
    "train=readData()\n",
    "train=changeYear(train)\n",
    "train=augFeatures(train)\n",
    "train=manage(train)\n",
    "\n",
    "temp=train\n",
    "train=np.array(train)\n",
    "train=normalize(train)\n",
    "train=pd.DataFrame(train)\n",
    "train=train.rename(columns = {0:'開盤價',1:'最高價',2:'最低價',3:'收盤價',4:'年',5:'月',6:'日',7:'第幾日'})\n",
    "train_x1, train_y1 = buildTrain(train,30,1)\n",
    "train_x2, train_y2 = buildTrain(temp,30,1)\n",
    "#train_x1= np.reshape(train_x1, (train_x1.shape[0],train_x1.shape[2]))\n",
    "#train_x1=normalize(train_x1)\n",
    "#train_x1= np.reshape(train_x1, (train_x1.shape[0],1,train_x1.shape[1]))\n",
    "train_x, train_y = train_x1,train_y2\n",
    "\n",
    "train_x, train_y = shuffle1(train_x, train_y )\n",
    "\n",
    "train_x, train_y , val_x, val_y = splitData(train_x, train_y , 0.1)\n",
    "\n",
    "train_y=np_utils.to_categorical(train_y)\n",
    "val_y=np_utils.to_categorical(val_y)\n",
    "\n",
    "#train_x= np.reshape(train_x, (train_x.shape[0],train_x.shape[2]))\n",
    "#val_x= np.reshape(val_x, (val_x.shape[0],val_x.shape[2]))\n",
    "\n",
    "history = LossHistory()\n",
    "model = buildOneToOneModel(train_x.shape)\n",
    "\n",
    "\n",
    "\n",
    "#callback = EarlyStopping(monitor=\"acc\", patience=10, verbose=1, mode=\"auto\")\n",
    "\n",
    "model.fit(train_x, train_y, epochs=20, batch_size=100,verbose=2, validation_split=0.1,callbacks=[history])\n",
    "\n",
    "history.loss_plot('epoch')\n"
   ]
  },
  {
   "cell_type": "code",
   "execution_count": 12,
   "metadata": {},
   "outputs": [],
   "source": [
    "import matplotlib.pyplot as plt\n",
    "import keras\n",
    "class LossHistory(keras.callbacks.Callback):\n",
    "    def on_train_begin(self, logs={}):\n",
    "        self.losses = {'batch':[], 'epoch':[]}\n",
    "        self.accuracy = {'batch':[], 'epoch':[]}\n",
    "        self.val_loss = {'batch':[], 'epoch':[]}\n",
    "        self.val_acc = {'batch':[], 'epoch':[]}\n",
    " \n",
    "    def on_batch_end(self, batch, logs={}):\n",
    "        self.losses['batch'].append(logs.get('loss'))\n",
    "        self.accuracy['batch'].append(logs.get('acc'))\n",
    "        self.val_loss['batch'].append(logs.get('val_loss'))\n",
    "        self.val_acc['batch'].append(logs.get('val_acc'))\n",
    " \n",
    "    def on_epoch_end(self, batch, logs={}):\n",
    "        self.losses['epoch'].append(logs.get('loss'))\n",
    "        self.accuracy['epoch'].append(logs.get('acc'))\n",
    "        self.val_loss['epoch'].append(logs.get('val_loss'))\n",
    "        self.val_acc['epoch'].append(logs.get('val_acc'))\n",
    " \n",
    "    def loss_plot(self, loss_type):\n",
    "        iters = range(len(self.losses[loss_type]))\n",
    "        plt.figure()\n",
    "        # acc\n",
    "        plt.plot(iters, self.accuracy[loss_type], 'r', label='train acc')\n",
    "        # loss\n",
    "        plt.plot(iters, self.losses[loss_type], 'g', label='train loss')\n",
    "        if loss_type == 'epoch':\n",
    "            # val_acc\n",
    "            plt.plot(iters, self.val_acc[loss_type], 'b', label='val acc')\n",
    "            # val_loss\n",
    "            plt.plot(iters, self.val_loss[loss_type], 'k', label='val loss')\n",
    "        plt.grid(True)\n",
    "        plt.xlabel(loss_type)\n",
    "        plt.ylabel('acc-loss')\n",
    "        plt.legend(loc=\"upper right\")\n",
    "        plt.show()\n",
    "\n"
   ]
  },
  {
   "cell_type": "code",
   "execution_count": null,
   "metadata": {},
   "outputs": [],
   "source": []
  }
 ],
 "metadata": {
  "kernelspec": {
   "display_name": "Python 3",
   "language": "python",
   "name": "python3"
  },
  "language_info": {
   "codemirror_mode": {
    "name": "ipython",
    "version": 3
   },
   "file_extension": ".py",
   "mimetype": "text/x-python",
   "name": "python",
   "nbconvert_exporter": "python",
   "pygments_lexer": "ipython3",
   "version": "3.5.5"
  }
 },
 "nbformat": 4,
 "nbformat_minor": 2
}
